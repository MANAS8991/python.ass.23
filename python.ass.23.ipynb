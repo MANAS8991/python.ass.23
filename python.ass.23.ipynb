{
 "cells": [
  {
   "cell_type": "markdown",
   "id": "1c5f0326",
   "metadata": {},
   "source": [
    "# 1. What is the result of the code, and why?\n",
    "# >>>def func(a,b=6,c=8):\n",
    "# print(a,b,c)\n",
    "# >>>func(1,2)"
   ]
  },
  {
   "cell_type": "raw",
   "id": "1312d975",
   "metadata": {},
   "source": [
    "The result of the code will be: 1 2 8\n",
    "\n",
    "Explanation:\n",
    "\n",
    "The function func() is defined with three parameters: a, b, and c.\n",
    "The parameter b has a default value of 6, and the parameter c has a default value of 8.\n",
    "When the function is called as func(1, 2), the argument 1 is assigned to the parameter a, and the argument 2 is assigned to the parameter b.\n",
    "Since no argument is provided for the parameter c, it takes its default value of 8.\n",
    "Inside the function, the values of a, b, and c are printed, resulting in the output 1 2 8.\n"
   ]
  },
  {
   "cell_type": "markdown",
   "id": "b49949f2",
   "metadata": {},
   "source": [
    "# 2. What is the result of this code, and why?\n",
    "# >>>def func(a,b,c=5):\n",
    "# print(a,b,c,)\n",
    "# >>>func(1,c=3,b=2)"
   ]
  },
  {
   "cell_type": "raw",
   "id": "041807d1",
   "metadata": {},
   "source": [
    "The result of the code will be: 1 2 3\n",
    "\n",
    "Explanation:\n",
    "\n",
    "The function func() is defined with three parameters: a, b, and c.\n",
    "The parameter c has a default value of 5.\n",
    "When the function is called as func(1, c=3, b=2), the argument 1 is assigned to the parameter a, the argument 2 is explicitly assigned to the parameter b, and the argument 3 is explicitly assigned to the parameter c.\n",
    "Inside the function, the values of a, b, and c are printed, resulting in the output 1 2 3.    "
   ]
  },
  {
   "cell_type": "markdown",
   "id": "40fb925e",
   "metadata": {},
   "source": [
    "# 3. How about this code: what is its result, and why?\n",
    "# >>>def func(a,*pargs):\n",
    "# print(a,pargs)\n",
    "# >>>func(1,2,3)"
   ]
  },
  {
   "cell_type": "raw",
   "id": "66c5cb02",
   "metadata": {},
   "source": [
    "The result of the code will be: 1 (2,3)\n",
    "    \n",
    "Explanation:\n",
    "\n",
    "The function func() is defined with a parameter a and *pargs which represents a variable-length argument tuple.\n",
    "When the function is called as func(1, 2, 3), the value 1 is assigned to the parameter a, and the values 2 and 3 are packed into the pargs tuple.\n",
    "Inside the function, the values of a and pargs are printed, resulting in the output 1 (2, 3).\n",
    "The pargs tuple contains the additional arguments passed to the function after the first positional argument. In this case, it contains the values 2 and 3."
   ]
  },
  {
   "cell_type": "markdown",
   "id": "ed7e12d4",
   "metadata": {},
   "source": [
    "# 4. What does this code print, and why?\n",
    "# >>>def func(a,**kargs):\n",
    "# print(a,kargs)\n",
    "# >>>func(a=1,c=3,b=2)"
   ]
  },
  {
   "cell_type": "code",
   "execution_count": null,
   "id": "7a9441f5",
   "metadata": {},
   "outputs": [],
   "source": [
    "The code will print: 1{'c':3,'b':2}\n",
    "    \n",
    "Explanation:\n",
    "\n",
    "The function func() is defined with a parameter a and **kargs which represents a variable-length keyword argument dictionary.\n",
    "When the function is called as func(a=1, c=3, b=2), the value 1 is assigned to the parameter a, and the keyword arguments c=3 and b=2 are packed into the kargs dictionary.\n",
    "Inside the function, the values of a and kargs are printed, resulting in the output 1 {'c': 3, 'b': 2}.\n",
    "The kargs dictionary contains the keyword arguments passed to the function. In this case, it contains the key-value pairs 'c': 3 and 'b': 2'."
   ]
  },
  {
   "cell_type": "markdown",
   "id": "c33bad78",
   "metadata": {},
   "source": [
    "# 5. What gets printed by this, and explain?\n",
    "# >>>def func(a,b,c=8,d=5):print(a,b,c,d)\n",
    "# >>>func(1,*(5,6))"
   ]
  },
  {
   "cell_type": "code",
   "execution_count": null,
   "id": "0ff04b53",
   "metadata": {},
   "outputs": [],
   "source": [
    "The code will print: 1 5 6 5\n",
    "    \n",
    "Explanation:\n",
    "\n",
    "The function func() is defined with parameters a, b, c, and d.\n",
    "When the function is called as func(1, *(5, 6)), the value 1 is assigned to the parameter a, and the tuple (5, 6) is unpacked and assigned to the parameters b and c, respectively.\n",
    "Since the parameter d is not provided during the function call, it takes its default value of 5.\n",
    "Thus, the values 1, 5, 6, and 5 are printed by the function.    "
   ]
  },
  {
   "cell_type": "markdown",
   "id": "c8ac8aa7",
   "metadata": {},
   "source": [
    "# 6. what is the result of this, and explain?\n",
    "# >>>def func(a,b,c):a=2;b[0]='x';c['a']='y'\n",
    "# >>>l=1;m=[1];n={'a':0}\n",
    "# >>>func(l,m,n)\n",
    "# >>>l,m,n"
   ]
  },
  {
   "cell_type": "code",
   "execution_count": null,
   "id": "6c2ac5ef",
   "metadata": {},
   "outputs": [],
   "source": [
    "The result of the code will be: 1 ['x'] {'a': 'y'}\n",
    "\n",
    " Explanation:\n",
    "\n",
    "The function func() takes three parameters: a, b, and c.\n",
    "When the function is called as func(l, m, n), the value of l is passed by value, so the original variable l remains unchanged.\n",
    "However, the variable m is a list, which is mutable, so any changes made to it within the function will affect the original list object. In the function, the first element of m is modified to 'x'.\n",
    "Similarly, the variable n is a dictionary, which is also mutable. Inside the function, the dictionary n is modified by adding a new key-value pair 'a': 'y'.\n",
    "After the function call, when we print the values of l, m, and n, we see the modified values as 'x' in the list m and 'y' in the dictionary n, while l remains unaffected.   "
   ]
  }
 ],
 "metadata": {
  "kernelspec": {
   "display_name": "Python 3 (ipykernel)",
   "language": "python",
   "name": "python3"
  },
  "language_info": {
   "codemirror_mode": {
    "name": "ipython",
    "version": 3
   },
   "file_extension": ".py",
   "mimetype": "text/x-python",
   "name": "python",
   "nbconvert_exporter": "python",
   "pygments_lexer": "ipython3",
   "version": "3.9.12"
  }
 },
 "nbformat": 4,
 "nbformat_minor": 5
}
